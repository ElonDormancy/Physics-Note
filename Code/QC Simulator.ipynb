{
 "cells": [
  {
   "cell_type": "code",
   "execution_count": 3,
   "metadata": {},
   "outputs": [],
   "source": [
    "from scipy import sparse\n",
    "import numpy as np"
   ]
  },
  {
   "cell_type": "code",
   "execution_count": 4,
   "metadata": {},
   "outputs": [],
   "source": [
    "Id = np.identity(2)\n",
    "j =1j\n",
    "X = np.array([[0,1],[1,0]])\n",
    "Y = np.array([[0,-j],[j,0]])\n",
    "Z = np.array([[1,0],[0,-1]])\n",
    "S = np.array([[1,0],[0,j]])\n",
    "Sd = np.array([[1,0],[0,-j]])\n",
    "T = np.array([[1,0],[0,np.exp(j*(np.pi/4))]])\n",
    "Td = np.array([[1,0],[0,np.exp(-j*(np.pi/4))]])\n",
    "h = (1/2**0.5)*np.array([[1,1],[1,-1]])"
   ]
  },
  {
   "cell_type": "code",
   "execution_count": 5,
   "metadata": {},
   "outputs": [],
   "source": [
    "#Initial_Qubit"
   ]
  },
  {
   "cell_type": "code",
   "execution_count": 6,
   "metadata": {},
   "outputs": [],
   "source": [
    "def single_q(i):\n",
    "    if i == 0:\n",
    "        return np.array([1,0])\n",
    "    elif i==1:\n",
    "        return np.array([0,1])\n",
    "    else:\n",
    "        return \"NULL\"\n",
    "P0 = np.outer(single_q(0),single_q(0))\n",
    "P1 = np.outer(single_q(1),single_q(1))"
   ]
  },
  {
   "cell_type": "code",
   "execution_count": 7,
   "metadata": {},
   "outputs": [],
   "source": [
    "def init_q(qubit):\n",
    "    q = single_q(qubit[0])\n",
    "    for i in range(1,len(qubit)):\n",
    "        q = sparse.kron(q,single_q(qubit[i]))\n",
    "    iq = q.toarray()\n",
    "    return iq.T\n",
    "'''\n",
    "def init_reverse(qubit):\n",
    "    for i in range(len(qubit)):\n",
    "        if float(qubit[i].real) > 1e-5:\n",
    "            f = bin(i).replace('0b','')\n",
    "    while(len(f) != int(np.log2(len(qubit)))):\n",
    "        f = \"0\"+ f\n",
    "    arr = []\n",
    "    for i in f:\n",
    "        arr.append(int(i))\n",
    "    return arr\n",
    "'''\n",
    "def tobinary(k,n):\n",
    "    f = bin(k).replace('0b','')\n",
    "    while(len(f) < n):\n",
    "        f = \"0\"+ f\n",
    "    arr = []\n",
    "    for i in f:\n",
    "        arr.append(int(i))\n",
    "    return arr"
   ]
  },
  {
   "cell_type": "code",
   "execution_count": 8,
   "metadata": {},
   "outputs": [],
   "source": [
    "#Single_Qubit_Gate"
   ]
  },
  {
   "cell_type": "code",
   "execution_count": 9,
   "metadata": {},
   "outputs": [],
   "source": [
    "def Hadmard_Gate(hl):#Location of Hadamard Gate:Input array \n",
    "#for example:if Hadamard gate is [0,0,0,1] which means the location of the Hadamard Gate is on the fourth qubit\n",
    "    h = (1/2**0.5)*np.array([[1,1],[1,-1]])\n",
    "    H = h*hl[0]+Id*(not hl[0])\n",
    "    for i in range(1,len(hl)):\n",
    "        H = sparse.kron(H,h*hl[i]+Id*(not hl[i]))\n",
    "    return H.toarray()"
   ]
  },
  {
   "cell_type": "code",
   "execution_count": 10,
   "metadata": {},
   "outputs": [],
   "source": [
    "def Single_Gate(gl,Gate):#Location of Single_Gate:Input array \n",
    "#for example:if Hadamard gate is [0,0,0,1] which means the location of the Hadamard Gate is on the fourth qubit\n",
    "    gate = Gate*gl[0]+Id*(not gl[0])\n",
    "    for i in range(1,len(gl)):\n",
    "        gate = sparse.kron(gate,Gate*gl[i]+Id*(not gl[i]))\n",
    "    return gate.toarray()"
   ]
  },
  {
   "cell_type": "code",
   "execution_count": 11,
   "metadata": {},
   "outputs": [],
   "source": [
    "def Rx_Gate(theta):\n",
    "    return np.cos(theta/2)*Id-j*np.sin(theta/2)*X\n",
    "def Ry_Gate(theta):\n",
    "    return np.cos(theta/2)*Id-j*np.sin(theta/2)*Y\n",
    "def Rz_Gate(theta):\n",
    "    return np.cos(theta/2)*Id-j*np.sin(theta/2)*Z"
   ]
  },
  {
   "cell_type": "code",
   "execution_count": 12,
   "metadata": {},
   "outputs": [],
   "source": [
    "#Z-Y-Z Decomposition"
   ]
  },
  {
   "cell_type": "code",
   "execution_count": 13,
   "metadata": {},
   "outputs": [],
   "source": [
    "#Multibit_Gate"
   ]
  },
  {
   "cell_type": "code",
   "execution_count": 14,
   "metadata": {},
   "outputs": [],
   "source": [
    "def CNOT_Gate(cl,tl):\n",
    "#cl:Location of Control qubit Gate:Input array \n",
    "#tl:Location of Target qubit Gate:Input array\n",
    "    CNOT1 = P0*cl[0]+Id*(not cl[0])\n",
    "    for i in range(1,len(cl)):\n",
    "        CNOT1 = np.kron(CNOT1,P0*cl[i]+Id*(not cl[i]))\n",
    "    CNOT2 = P1*cl[0]+Id*(not cl[0])+ X*(tl[0])\n",
    "    for i in range(1,len(cl)):\n",
    "        CNOT2 = np.kron(CNOT2,P1*cl[i]+Id*((not cl[i])and(not tl[i]))+ X*(tl[i]))\n",
    "    return CNOT1+CNOT2"
   ]
  },
  {
   "cell_type": "code",
   "execution_count": 15,
   "metadata": {},
   "outputs": [],
   "source": [
    "#We can use the above gate to construct any algorithm you want"
   ]
  },
  {
   "cell_type": "code",
   "execution_count": 16,
   "metadata": {},
   "outputs": [],
   "source": [
    "#for example:"
   ]
  },
  {
   "cell_type": "code",
   "execution_count": 17,
   "metadata": {},
   "outputs": [],
   "source": [
    "def measure(ml,tf,q):#the location of measure\n",
    "    ls = []\n",
    "    n = len(ml)\n",
    "    for i in range(2**len(ml)):\n",
    "        ls.append(tobinary(i,len(ml)))\n",
    "    qs = []\n",
    "    m = []\n",
    "    dic = {}\n",
    "    result = []\n",
    "    for j in range(2**len(ml)):\n",
    "        qs.append(single_q(ls[j][0]))\n",
    "    for j in range(2**len(ml)):\n",
    "        for i in range(1,n):\n",
    "            qs[j] = np.kron(qs[j],single_q(ls[j][i]))\n",
    "    for k in range(len(qs)):\n",
    "        dic[f'{tobinary(k,n)}'] = np.dot(qs[k],q)[0]\n",
    "        m.append(np.dot(qs[k],q)[0])\n",
    "        result.append(tobinary(k,n))\n",
    "    for i in range(len(ml)):\n",
    "        if ml[i]!=0:\n",
    "            ord = i\n",
    "    prob = 0\n",
    "    for i in result:\n",
    "        if i[ord] == tf:\n",
    "            prob += dic[f\"{i}\"]**2\n",
    "    return prob"
   ]
  },
  {
   "cell_type": "code",
   "execution_count": 18,
   "metadata": {},
   "outputs": [],
   "source": [
    "import random\n",
    "def rand_pick(seq,prob):\n",
    "    x = random.uniform(0,1)\n",
    "    cumprob = 0.0\n",
    "    for item,item_prob in zip(seq,prob):\n",
    "        cumprob += item_prob\n",
    "        if x<cumprob:\n",
    "            break\n",
    "    return item\n",
    "def real_measure(ml,q):\n",
    "    seq = [0,1]\n",
    "    prob = [measure(ml,0,q),measure(ml,1,q)]\n",
    "    return rand_pick(seq,prob)"
   ]
  },
  {
   "cell_type": "code",
   "execution_count": null,
   "metadata": {},
   "outputs": [],
   "source": []
  },
  {
   "cell_type": "code",
   "execution_count": 19,
   "metadata": {},
   "outputs": [],
   "source": [
    "def ccnotgate(qubit):\n",
    "    q = init_q(qubit)\n",
    "    q = Hadmard_Gate([0,0,1])@q\n",
    "    q = CNOT_Gate([0,1,0],[0,0,1])@q\n",
    "    q = Single_Gate([0,0,1],Td)@q\n",
    "    q = CNOT_Gate([1,0,0],[0,0,1])@q\n",
    "    q = Single_Gate([0,0,1],T)@q\n",
    "    q = CNOT_Gate([0,1,0],[0,0,1])@q\n",
    "    q = Single_Gate([0,0,1],Td)@q\n",
    "    q = CNOT_Gate([1,0,0],[0,0,1])@q\n",
    "    q = Single_Gate([0,1,0],Td)@q\n",
    "    q = Single_Gate([0,0,1],T)@q\n",
    "    q = CNOT_Gate([1,0,0],[0,1,0])@q\n",
    "    q = Hadmard_Gate([0,0,1])@q\n",
    "    q = Single_Gate([0,1,0],Td)@q\n",
    "    q = CNOT_Gate([1,0,0],[0,1,0])@q\n",
    "    q = Single_Gate([1,0,0],T)@q\n",
    "    q = Single_Gate([0,1,0],S)@q\n",
    "    return q"
   ]
  },
  {
   "cell_type": "code",
   "execution_count": 20,
   "metadata": {
    "scrolled": true
   },
   "outputs": [
    {
     "ename": "NameError",
     "evalue": "name 'init_reverse' is not defined",
     "output_type": "error",
     "traceback": [
      "\u001b[1;31m---------------------------------------------------------------------------\u001b[0m",
      "\u001b[1;31mNameError\u001b[0m                                 Traceback (most recent call last)",
      "\u001b[1;32m<ipython-input-20-f3b4355bcb6f>\u001b[0m in \u001b[0;36m<module>\u001b[1;34m\u001b[0m\n\u001b[1;32m----> 1\u001b[1;33m \u001b[0minit_reverse\u001b[0m\u001b[1;33m(\u001b[0m\u001b[0mccnotgate\u001b[0m\u001b[1;33m(\u001b[0m\u001b[1;33m[\u001b[0m\u001b[1;36m1\u001b[0m\u001b[1;33m,\u001b[0m\u001b[1;36m1\u001b[0m\u001b[1;33m,\u001b[0m\u001b[1;36m0\u001b[0m\u001b[1;33m]\u001b[0m\u001b[1;33m)\u001b[0m\u001b[1;33m)\u001b[0m\u001b[1;33m\u001b[0m\u001b[1;33m\u001b[0m\u001b[0m\n\u001b[0m",
      "\u001b[1;31mNameError\u001b[0m: name 'init_reverse' is not defined"
     ]
    }
   ],
   "source": [
    "init_reverse(ccnotgate([1,1,0]))"
   ]
  },
  {
   "cell_type": "code",
   "execution_count": null,
   "metadata": {},
   "outputs": [],
   "source": []
  },
  {
   "cell_type": "code",
   "execution_count": 21,
   "metadata": {},
   "outputs": [
    {
     "data": {
      "text/plain": [
       "0.9999999999999996"
      ]
     },
     "execution_count": 21,
     "metadata": {},
     "output_type": "execute_result"
    }
   ],
   "source": [
    "q = init_q([0,1])\n",
    "q = Hadmard_Gate([1,1])@q\n",
    "q = Hadmard_Gate([1,0])@q\n",
    "measure([1,0],0,q)"
   ]
  },
  {
   "cell_type": "code",
   "execution_count": 39,
   "metadata": {},
   "outputs": [],
   "source": [
    "def CR_Gate(cl,tl,Gate):\n",
    "#cl:Location of Control qubit Gate:Input array \n",
    "#tl:Location of Target qubit Gate:Input array\n",
    "    CR1 = P0*cl[0]+Id*(not cl[0])\n",
    "    for i in range(1,len(cl)):\n",
    "        CR1 = np.kron(CR1,P0*cl[i]+Id*(not cl[i]))\n",
    "    CR2 = P1*cl[0]+Id*(not cl[0])+ Gate*(tl[0])\n",
    "    for i in range(1,len(cl)):\n",
    "        CR2 = np.kron(CR2,P1*cl[i]+Id*((not cl[i])and(not tl[i]))+ Gate*(tl[i]))\n",
    "    return CR1+CR2"
   ]
  },
  {
   "cell_type": "code",
   "execution_count": 40,
   "metadata": {},
   "outputs": [],
   "source": [
    "CNOT = CNOT_Gate([1,0],[0,1])"
   ]
  },
  {
   "cell_type": "code",
   "execution_count": 50,
   "metadata": {},
   "outputs": [],
   "source": [
    "def R(n):\n",
    "    f = np.array([[1,0],[0,np.exp(2*np.pi*j/2**n)]])\n",
    "    return f"
   ]
  },
  {
   "cell_type": "code",
   "execution_count": 51,
   "metadata": {},
   "outputs": [],
   "source": [
    "def CZ():\n",
    "    CZ = Hadmard_Gate([0,1])\n",
    "    CZ = np.dot(CNOT_Gate([1,0],[0,1]),CZ)\n",
    "    CZ = np.dot(Hadmard_Gate([0,1]),CZ)\n",
    "    return CZ"
   ]
  },
  {
   "cell_type": "code",
   "execution_count": 54,
   "metadata": {},
   "outputs": [
    {
     "name": "stdout",
     "output_type": "stream",
     "text": [
      "[[1.+0.0000000e+00j 0.+0.0000000e+00j]\n",
      " [0.+0.0000000e+00j 1.-2.4492936e-16j]]\n"
     ]
    }
   ],
   "source": [
    "print(R(0))"
   ]
  },
  {
   "cell_type": "code",
   "execution_count": 57,
   "metadata": {},
   "outputs": [
    {
     "name": "stdout",
     "output_type": "stream",
     "text": [
      "[[1.        +0.j         0.        +0.j         0.        +0.j\n",
      "  0.        +0.j        ]\n",
      " [0.        +0.j         1.        +0.j         0.        +0.j\n",
      "  0.        +0.j        ]\n",
      " [0.        +0.j         0.        +0.j         1.        +0.j\n",
      "  0.        +0.j        ]\n",
      " [0.        +0.j         0.        +0.j         0.        +0.j\n",
      "  0.70710678+0.70710678j]]\n"
     ]
    }
   ],
   "source": [
    "print(CR_Gate([1,0],[0,1],R(3)))"
   ]
  },
  {
   "cell_type": "code",
   "execution_count": 59,
   "metadata": {},
   "outputs": [
    {
     "name": "stdout",
     "output_type": "stream",
     "text": [
      "[[ 3.53553391e-01+0.00000000e+00j  3.53553391e-01+0.00000000e+00j\n",
      "   3.53553391e-01+0.00000000e+00j  3.53553391e-01+0.00000000e+00j\n",
      "   3.53553391e-01+0.00000000e+00j  3.53553391e-01+0.00000000e+00j\n",
      "   3.53553391e-01+0.00000000e+00j  3.53553391e-01+0.00000000e+00j]\n",
      " [ 3.53553391e-01+0.00000000e+00j -3.53553391e-01+0.00000000e+00j\n",
      "  -3.53553391e-01+4.32978028e-17j  3.53553391e-01-4.32978028e-17j\n",
      "   2.50000000e-01+2.50000000e-01j -2.50000000e-01-2.50000000e-01j\n",
      "  -2.50000000e-01-2.50000000e-01j  2.50000000e-01+2.50000000e-01j]\n",
      " [ 3.53553391e-01+0.00000000e+00j  3.53553391e-01+0.00000000e+00j\n",
      "  -3.53553391e-01+0.00000000e+00j -3.53553391e-01+0.00000000e+00j\n",
      "   2.16489014e-17+3.53553391e-01j  2.16489014e-17+3.53553391e-01j\n",
      "  -2.16489014e-17-3.53553391e-01j -2.16489014e-17-3.53553391e-01j]\n",
      " [ 3.53553391e-01+0.00000000e+00j -3.53553391e-01+0.00000000e+00j\n",
      "   3.53553391e-01-4.32978028e-17j -3.53553391e-01+4.32978028e-17j\n",
      "  -2.50000000e-01+2.50000000e-01j  2.50000000e-01-2.50000000e-01j\n",
      "  -2.50000000e-01+2.50000000e-01j  2.50000000e-01-2.50000000e-01j]\n",
      " [ 3.53553391e-01+0.00000000e+00j  3.53553391e-01+0.00000000e+00j\n",
      "   3.53553391e-01+0.00000000e+00j  3.53553391e-01+0.00000000e+00j\n",
      "  -3.53553391e-01+0.00000000e+00j -3.53553391e-01+0.00000000e+00j\n",
      "  -3.53553391e-01+0.00000000e+00j -3.53553391e-01+0.00000000e+00j]\n",
      " [ 3.53553391e-01+0.00000000e+00j -3.53553391e-01+0.00000000e+00j\n",
      "  -3.53553391e-01+4.32978028e-17j  3.53553391e-01-4.32978028e-17j\n",
      "  -2.50000000e-01-2.50000000e-01j  2.50000000e-01+2.50000000e-01j\n",
      "   2.50000000e-01+2.50000000e-01j -2.50000000e-01-2.50000000e-01j]\n",
      " [ 3.53553391e-01+0.00000000e+00j  3.53553391e-01+0.00000000e+00j\n",
      "  -3.53553391e-01+0.00000000e+00j -3.53553391e-01+0.00000000e+00j\n",
      "  -2.16489014e-17-3.53553391e-01j -2.16489014e-17-3.53553391e-01j\n",
      "   2.16489014e-17+3.53553391e-01j  2.16489014e-17+3.53553391e-01j]\n",
      " [ 3.53553391e-01+0.00000000e+00j -3.53553391e-01+0.00000000e+00j\n",
      "   3.53553391e-01-4.32978028e-17j -3.53553391e-01+4.32978028e-17j\n",
      "   2.50000000e-01-2.50000000e-01j -2.50000000e-01+2.50000000e-01j\n",
      "   2.50000000e-01-2.50000000e-01j -2.50000000e-01+2.50000000e-01j]]\n"
     ]
    }
   ],
   "source": [
    "#Three Qubit Fourier Transform\n",
    "def threequbitfft():\n",
    "    fft = Hadmard_Gate([0,0,1])\n",
    "    fft = np.dot(CR_Gate([0,1,0],[0,0,1],R(2)),fft)\n",
    "    fft = np.dot(CR_Gate([0,1,0],[0,0,1],R(2)),fft)\n",
    "    fft = np.dot(CR_Gate([1,0,0],[0,0,1],R(3)),fft)\n",
    "    fft = np.dot(Hadmard_Gate([0,1,0]),fft)\n",
    "    fft = np.dot(CR_Gate([1,0,0],[0,1,0],R(2)),fft)\n",
    "    fft = np.dot(Hadmard_Gate([1,0,0]),fft)\n",
    "    return fft\n",
    "print(threequbitfft())"
   ]
  },
  {
   "cell_type": "code",
   "execution_count": null,
   "metadata": {},
   "outputs": [],
   "source": []
  }
 ],
 "metadata": {
  "kernelspec": {
   "display_name": "Python 3",
   "language": "python",
   "name": "python3"
  },
  "language_info": {
   "codemirror_mode": {
    "name": "ipython",
    "version": 3
   },
   "file_extension": ".py",
   "mimetype": "text/x-python",
   "name": "python",
   "nbconvert_exporter": "python",
   "pygments_lexer": "ipython3",
   "version": "3.7.4"
  }
 },
 "nbformat": 4,
 "nbformat_minor": 4
}
